{
 "cells": [
  {
   "cell_type": "code",
   "execution_count": 1,
   "id": "b60c193b",
   "metadata": {},
   "outputs": [
    {
     "data": {
      "text/plain": [
       "WindowsPath('C:/Users/a/Dev/ai-api')"
      ]
     },
     "execution_count": 1,
     "metadata": {},
     "output_type": "execute_result"
    }
   ],
   "source": [
    "import pathlib\n",
    "import pandas as pd\n",
    "import random\n",
    "\n",
    "BASE_DIR = pathlib.Path().resolve().parent\n",
    "DATASET_DIR = BASE_DIR / \"datasets\"\n",
    "EXPORT_DIR = DATASET_DIR / \"exports\"\n",
    "EXPORT_DIR.mkdir(exist_ok=True, parents=True)\n",
    "SPAM_DATASET_PATH = EXPORT_DIR / \"spam-dataset.csv\"\n",
    "\n",
    "\n",
    "BASE_DIR"
   ]
  },
  {
   "cell_type": "code",
   "execution_count": 2,
   "id": "8209b595",
   "metadata": {},
   "outputs": [],
   "source": [
    "df = pd.read_csv(SPAM_DATASET_PATH)"
   ]
  },
  {
   "cell_type": "code",
   "execution_count": 3,
   "id": "ed350eae",
   "metadata": {},
   "outputs": [
    {
     "data": {
      "text/html": [
       "<div>\n",
       "<style scoped>\n",
       "    .dataframe tbody tr th:only-of-type {\n",
       "        vertical-align: middle;\n",
       "    }\n",
       "\n",
       "    .dataframe tbody tr th {\n",
       "        vertical-align: top;\n",
       "    }\n",
       "\n",
       "    .dataframe thead th {\n",
       "        text-align: right;\n",
       "    }\n",
       "</style>\n",
       "<table border=\"1\" class=\"dataframe\">\n",
       "  <thead>\n",
       "    <tr style=\"text-align: right;\">\n",
       "      <th></th>\n",
       "      <th>label</th>\n",
       "      <th>text</th>\n",
       "      <th>source</th>\n",
       "    </tr>\n",
       "  </thead>\n",
       "  <tbody>\n",
       "    <tr>\n",
       "      <th>0</th>\n",
       "      <td>ham</td>\n",
       "      <td>Go until jurong point, crazy.. Available only ...</td>\n",
       "      <td>sms-spam</td>\n",
       "    </tr>\n",
       "    <tr>\n",
       "      <th>1</th>\n",
       "      <td>ham</td>\n",
       "      <td>Ok lar... Joking wif u oni...</td>\n",
       "      <td>sms-spam</td>\n",
       "    </tr>\n",
       "    <tr>\n",
       "      <th>2</th>\n",
       "      <td>spam</td>\n",
       "      <td>Free entry in 2 a wkly comp to win FA Cup fina...</td>\n",
       "      <td>sms-spam</td>\n",
       "    </tr>\n",
       "    <tr>\n",
       "      <th>3</th>\n",
       "      <td>ham</td>\n",
       "      <td>U dun say so early hor... U c already then say...</td>\n",
       "      <td>sms-spam</td>\n",
       "    </tr>\n",
       "    <tr>\n",
       "      <th>4</th>\n",
       "      <td>ham</td>\n",
       "      <td>Nah I don't think he goes to usf, he lives aro...</td>\n",
       "      <td>sms-spam</td>\n",
       "    </tr>\n",
       "  </tbody>\n",
       "</table>\n",
       "</div>"
      ],
      "text/plain": [
       "  label                                               text    source\n",
       "0   ham  Go until jurong point, crazy.. Available only ...  sms-spam\n",
       "1   ham                      Ok lar... Joking wif u oni...  sms-spam\n",
       "2  spam  Free entry in 2 a wkly comp to win FA Cup fina...  sms-spam\n",
       "3   ham  U dun say so early hor... U c already then say...  sms-spam\n",
       "4   ham  Nah I don't think he goes to usf, he lives aro...  sms-spam"
      ]
     },
     "execution_count": 3,
     "metadata": {},
     "output_type": "execute_result"
    }
   ],
   "source": [
    "df.head()"
   ]
  },
  {
   "cell_type": "code",
   "execution_count": 4,
   "id": "e1ee33bd",
   "metadata": {},
   "outputs": [
    {
     "data": {
      "text/plain": [
       "(7528, 3)"
      ]
     },
     "execution_count": 4,
     "metadata": {},
     "output_type": "execute_result"
    }
   ],
   "source": [
    "df.shape"
   ]
  },
  {
   "cell_type": "code",
   "execution_count": 5,
   "id": "c38bf7ba",
   "metadata": {},
   "outputs": [],
   "source": [
    "labels = df['label'].to_list()\n",
    "texts = df['text'].to_list()"
   ]
  },
  {
   "cell_type": "code",
   "execution_count": 6,
   "id": "0676eb2d",
   "metadata": {},
   "outputs": [
    {
     "data": {
      "text/plain": [
       "{'0': 'ham', '1': 'spam'}"
      ]
     },
     "execution_count": 6,
     "metadata": {},
     "output_type": "execute_result"
    }
   ],
   "source": [
    "label_legend = {'ham': 0, 'spam': 1}\n",
    "label_legend_inverted = {f\"{v}\":k for k, v in label_legend.items()}\n",
    "label_legend_inverted"
   ]
  },
  {
   "cell_type": "code",
   "execution_count": 8,
   "id": "bacecffe",
   "metadata": {},
   "outputs": [],
   "source": [
    "labels_as_int = [label_legend[x] for x in labels]"
   ]
  },
  {
   "cell_type": "code",
   "execution_count": 10,
   "id": "9b589c2e",
   "metadata": {},
   "outputs": [],
   "source": [
    "# labels_as_int"
   ]
  },
  {
   "cell_type": "code",
   "execution_count": 17,
   "id": "ac3ab57d",
   "metadata": {},
   "outputs": [
    {
     "data": {
      "text/plain": [
       "'spam'"
      ]
     },
     "execution_count": 17,
     "metadata": {},
     "output_type": "execute_result"
    }
   ],
   "source": [
    "label_legend_inverted[str(labels_as_int[120])]"
   ]
  },
  {
   "cell_type": "code",
   "execution_count": 11,
   "id": "66c7c7df",
   "metadata": {},
   "outputs": [],
   "source": [
    "random_idx = random.randint(0, len(labels))\n",
    "\n",
    "assert labels[random_idx] == df['label'][random_idx]\n",
    "assert texts[random_idx] == df.iloc[random_idx]['text']\n",
    "assert label_legend_inverted[str(labels_as_int[random_idx])] == df.iloc[random_idx]['label']"
   ]
  },
  {
   "cell_type": "code",
   "execution_count": 46,
   "id": "92c19e96",
   "metadata": {},
   "outputs": [],
   "source": [
    "import numpy as np\n",
    "\n",
    "from tensorflow.keras.utils import to_categorical\n",
    "from tensorflow.keras.preprocessing.text import Tokenizer\n",
    "from tensorflow.keras.preprocessing.sequence import pad_sequences"
   ]
  },
  {
   "cell_type": "code",
   "execution_count": 22,
   "id": "b47694cc",
   "metadata": {},
   "outputs": [],
   "source": [
    "# max_num_words = 280"
   ]
  },
  {
   "cell_type": "code",
   "execution_count": 34,
   "id": "7619559b",
   "metadata": {},
   "outputs": [],
   "source": [
    "tokenizer = Tokenizer()\n",
    "tokenizer.fit_on_texts(texts)\n",
    "sequences = tokenizer.texts_to_sequences(texts)"
   ]
  },
  {
   "cell_type": "code",
   "execution_count": 35,
   "id": "a657f7bd",
   "metadata": {},
   "outputs": [
    {
     "data": {
      "text/plain": [
       "12077"
      ]
     },
     "execution_count": 35,
     "metadata": {},
     "output_type": "execute_result"
    }
   ],
   "source": [
    "# sequences\n",
    "# tokenizer.word_index\n",
    "len(tokenizer.word_index)"
   ]
  },
  {
   "cell_type": "code",
   "execution_count": 36,
   "id": "b24443a3",
   "metadata": {},
   "outputs": [
    {
     "data": {
      "text/plain": [
       "227"
      ]
     },
     "execution_count": 36,
     "metadata": {},
     "output_type": "execute_result"
    }
   ],
   "source": [
    "max([len(w) for w in sequences])"
   ]
  },
  {
   "cell_type": "code",
   "execution_count": 38,
   "id": "6434c598",
   "metadata": {},
   "outputs": [
    {
     "name": "stdout",
     "output_type": "stream",
     "text": [
      "[3711, 2, 343, 18, 916, 503, 5, 1194, 624, 10, 5, 246, 110, 186, 37, 503, 118, 122, 1194, 3711, 50, 123, 5468]\n"
     ]
    }
   ],
   "source": [
    "print(sequences[15])"
   ]
  },
  {
   "cell_type": "code",
   "execution_count": 40,
   "id": "17d62de8",
   "metadata": {},
   "outputs": [],
   "source": [
    "maxlen = 300"
   ]
  },
  {
   "cell_type": "code",
   "execution_count": 41,
   "id": "c25bb45b",
   "metadata": {},
   "outputs": [],
   "source": [
    "X = pad_sequences(sequences, maxlen=maxlen)"
   ]
  },
  {
   "cell_type": "code",
   "execution_count": 42,
   "id": "9873b6fd",
   "metadata": {},
   "outputs": [
    {
     "data": {
      "text/plain": [
       "300"
      ]
     },
     "execution_count": 42,
     "metadata": {},
     "output_type": "execute_result"
    }
   ],
   "source": [
    "max([len(w) for w in X])"
   ]
  },
  {
   "cell_type": "code",
   "execution_count": 47,
   "id": "2d0db509",
   "metadata": {},
   "outputs": [
    {
     "data": {
      "text/plain": [
       "array([0, 0, 1, ..., 0, 0, 0])"
      ]
     },
     "execution_count": 47,
     "metadata": {},
     "output_type": "execute_result"
    }
   ],
   "source": [
    "labels_as_int_arr = np.asarray(labels_as_int)\n",
    "labels_as_int_arr"
   ]
  },
  {
   "cell_type": "code",
   "execution_count": 48,
   "id": "070341e7",
   "metadata": {},
   "outputs": [
    {
     "data": {
      "text/plain": [
       "array([[1., 0.],\n",
       "       [1., 0.],\n",
       "       [0., 1.],\n",
       "       ...,\n",
       "       [1., 0.],\n",
       "       [1., 0.],\n",
       "       [1., 0.]], dtype=float32)"
      ]
     },
     "execution_count": 48,
     "metadata": {},
     "output_type": "execute_result"
    }
   ],
   "source": [
    "y = to_categorical(labels_as_int_arr)\n",
    "y"
   ]
  },
  {
   "cell_type": "code",
   "execution_count": null,
   "id": "7b1abc8c",
   "metadata": {},
   "outputs": [],
   "source": []
  }
 ],
 "metadata": {
  "kernelspec": {
   "display_name": "Python 3 (ipykernel)",
   "language": "python",
   "name": "python3"
  },
  "language_info": {
   "codemirror_mode": {
    "name": "ipython",
    "version": 3
   },
   "file_extension": ".py",
   "mimetype": "text/x-python",
   "name": "python",
   "nbconvert_exporter": "python",
   "pygments_lexer": "ipython3",
   "version": "3.8.10"
  }
 },
 "nbformat": 4,
 "nbformat_minor": 5
}
